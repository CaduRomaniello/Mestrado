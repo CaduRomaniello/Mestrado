{
 "cells": [
  {
   "cell_type": "code",
   "execution_count": 1,
   "metadata": {},
   "outputs": [],
   "source": [
    "import os\n",
    "import gc\n",
    "import pandas as pd\n",
    "from scipy.spatial.distance import cdist"
   ]
  },
  {
   "cell_type": "code",
   "execution_count": 7,
   "metadata": {},
   "outputs": [
    {
     "name": "stdout",
     "output_type": "stream",
     "text": [
      "d:\\masters-degree\\masters-project\\notebooks\n",
      "d:\\masters-degree\\masters-project\\nfl_data\\2025\n"
     ]
    }
   ],
   "source": [
    "# setting path to data\n",
    "cur_path = os.path.os.getcwd()\n",
    "print(cur_path)\n",
    "data_path = os.path.abspath(os.path.join(cur_path, '../nfl_data/2025/'))\n",
    "print(data_path)"
   ]
  },
  {
   "cell_type": "code",
   "execution_count": 8,
   "metadata": {},
   "outputs": [
    {
     "name": "stdout",
     "output_type": "stream",
     "text": [
      "['QB' 'T' 'TE' 'WR' 'DE' 'NT' 'SS' 'FS' 'G' 'OLB' 'DT' 'CB' 'RB' 'C' 'ILB'\n",
      " 'MLB' 'FB' 'DB' 'LB']\n",
      "SS\n",
      "FS\n"
     ]
    }
   ],
   "source": [
    "players = pd.read_csv(data_path + '/players.csv')\n",
    "positions = players['position'].unique()\n",
    "print(positions)\n",
    "for i in positions:\n",
    "    if 'S' in i:\n",
    "        print(i)"
   ]
  },
  {
   "cell_type": "code",
   "execution_count": 9,
   "metadata": {},
   "outputs": [
    {
     "name": "stdout",
     "output_type": "stream",
     "text": [
      "7104700\n"
     ]
    }
   ],
   "source": [
    "week_1 = pd.read_csv(data_path + '/tracking_week_1.csv')\n",
    "print(week_1.shape[0])"
   ]
  },
  {
   "cell_type": "code",
   "execution_count": 10,
   "metadata": {},
   "outputs": [
    {
     "name": "stdout",
     "output_type": "stream",
     "text": [
      "42944\n"
     ]
    }
   ],
   "source": [
    "week_1 = week_1[(week_1['frameType'] == 'SNAP') & (week_1['displayName'] != 'football')]\n",
    "print(week_1.shape[0])"
   ]
  },
  {
   "cell_type": "code",
   "execution_count": 11,
   "metadata": {},
   "outputs": [
    {
     "name": "stdout",
     "output_type": "stream",
     "text": [
      "4617591.221808542\n",
      "450912\n",
      "10.240559625400392\n"
     ]
    }
   ],
   "source": [
    "games = week_1['gameId'].unique()\n",
    "\n",
    "sum = 0\n",
    "n = 0\n",
    "\n",
    "for gameId in games:\n",
    "    game = week_1[week_1['gameId'] == gameId]\n",
    "    plays = game['playId'].unique()\n",
    "  \n",
    "    for playId in plays:\n",
    "        play = game[game['playId'] == playId]\n",
    "        \n",
    "        coords = play[['x', 'y']].values\n",
    "        dist_matrix = cdist(coords, coords, metric='euclidean')\n",
    "        \n",
    "        for i in range(dist_matrix.shape[0]):\n",
    "            for j in range(i):\n",
    "                if i != j:\n",
    "                    sum += dist_matrix[i][j]\n",
    "                    n += 1\n",
    "        \n",
    "    \n",
    "print(sum)\n",
    "print(n)\n",
    "print(sum / n)"
   ]
  },
  {
   "cell_type": "code",
   "execution_count": null,
   "metadata": {},
   "outputs": [
    {
     "name": "stdout",
     "output_type": "stream",
     "text": [
      "tracking_week_1.csv\n",
      "16\n",
      "tracking_week_2.csv\n",
      "16\n",
      "tracking_week_3.csv\n",
      "16\n",
      "tracking_week_4.csv\n",
      "16\n",
      "tracking_week_5.csv\n",
      "16\n",
      "tracking_week_6.csv\n",
      "14\n",
      "tracking_week_7.csv\n",
      "14\n",
      "tracking_week_8.csv\n",
      "15\n",
      "tracking_week_9.csv\n",
      "13\n"
     ]
    }
   ],
   "source": [
    "weeks = ['tracking_week_1.csv', 'tracking_week_2.csv', 'tracking_week_3.csv', 'tracking_week_4.csv', 'tracking_week_5.csv', 'tracking_week_6.csv', 'tracking_week_7.csv', 'tracking_week_8.csv', 'tracking_week_9.csv']\n",
    "\n",
    "sum = 0\n",
    "n = 0\n",
    "\n",
    "for week in weeks:\n",
    "    week_1 = pd.read_csv(data_path + f'/{week}')\n",
    "    week_1 = week_1[(week_1['frameType'] == 'SNAP') & (week_1['displayName'] != 'football')]\n",
    "    print(week)\n",
    "    \n",
    "    new_columns = players[['nflId', 'position']]\n",
    "    pd.set_option('display.max_columns', None)\n",
    "    week_1 = pd.merge(week_1, new_columns, on='nflId')\n",
    "    # week_1 = week_1[~week_1['position'].str.contains('S')]\n",
    "    \n",
    "    games = week_1['gameId'].unique()\n",
    "\n",
    "    print(len(games))\n",
    "    for gameId in games:\n",
    "        game = week_1[week_1['gameId'] == gameId]\n",
    "        plays = game['playId'].unique()\n",
    "        \n",
    "        for playId in plays:\n",
    "            play = game[game['playId'] == playId]\n",
    "            \n",
    "            coords = play[['x', 'y']].values\n",
    "            dist_matrix = cdist(coords, coords, metric='euclidean')\n",
    "            \n",
    "            for i in range(dist_matrix.shape[0]):\n",
    "                for j in range(i):\n",
    "                    if i != j:\n",
    "                        sum += dist_matrix[i][j]\n",
    "                        n += 1\n",
    "    \n",
    "    gc.collect()"
   ]
  },
  {
   "cell_type": "code",
   "execution_count": 19,
   "metadata": {},
   "outputs": [
    {
     "name": "stdout",
     "output_type": "stream",
     "text": [
      "27913874.813959353\n",
      "2998825\n",
      "9.308270677335074\n"
     ]
    }
   ],
   "source": [
    "print(sum)\n",
    "print(n)\n",
    "print(sum / n)"
   ]
  },
  {
   "cell_type": "code",
   "execution_count": null,
   "metadata": {},
   "outputs": [],
   "source": [
    "sum = 37907380.71634993\n",
    "n = 3724644\n",
    "mean = 10.177450708403255\n",
    "\n",
    "sum = 27913874.813959353\n",
    "n = 2998825\n",
    "mean = 9.308270677335074"
   ]
  }
 ],
 "metadata": {
  "kernelspec": {
   "display_name": "Python 3",
   "language": "python",
   "name": "python3"
  },
  "language_info": {
   "codemirror_mode": {
    "name": "ipython",
    "version": 3
   },
   "file_extension": ".py",
   "mimetype": "text/x-python",
   "name": "python",
   "nbconvert_exporter": "python",
   "pygments_lexer": "ipython3",
   "version": "3.12.6"
  }
 },
 "nbformat": 4,
 "nbformat_minor": 2
}
